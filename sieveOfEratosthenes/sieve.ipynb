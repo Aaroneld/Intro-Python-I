{
 "cells": [
  {
   "cell_type": "code",
   "execution_count": 19,
   "metadata": {
    "tags": []
   },
   "outputs": [
    {
     "output_type": "stream",
     "name": "stdout",
     "text": "2\n{2}\n3\n{2, 3}\n4\n{2, 3, 4}\nhere\n"
    }
   ],
   "source": [
    "def sieve(n):\n",
    "    notPrimes = set()\n",
    "    numberRange = set()\n",
    "    for x in range (2, n +1):\n",
    "        numberRange.add(x)\n",
    "        base = x\n",
    "        multiplier = 1 \n",
    "        while (base * multiplier) < n:\n",
    "            print(base * multiplier)\n",
    "            notPrimes.add((base * multiplier))\n",
    "            multiplier = multiplier + 1\n",
    "            print(notPrimes)\n",
    "            \n",
    "    print('here')\n",
    "        \n",
    "\n",
    "sieve(5)"
   ]
  },
  {
   "cell_type": "code",
   "execution_count": null,
   "metadata": {},
   "outputs": [],
   "source": []
  }
 ],
 "metadata": {
  "language_info": {
   "codemirror_mode": {
    "name": "ipython",
    "version": 3
   },
   "file_extension": ".py",
   "mimetype": "text/x-python",
   "name": "python",
   "nbconvert_exporter": "python",
   "pygments_lexer": "ipython3",
   "version": 3
  },
  "orig_nbformat": 2,
  "kernelspec": {
   "name": "python_defaultSpec_1594654348620",
   "display_name": "Python 3.8.2 64-bit"
  }
 },
 "nbformat": 4,
 "nbformat_minor": 2
}